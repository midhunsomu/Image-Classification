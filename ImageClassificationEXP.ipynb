{
 "cells": [
  {
   "cell_type": "code",
   "execution_count": 1,
   "metadata": {
    "executionInfo": {
     "elapsed": 28583,
     "status": "ok",
     "timestamp": 1742742361678,
     "user": {
      "displayName": "Midhun S",
      "userId": "16395347418772137838"
     },
     "user_tz": -330
    },
    "id": "IQ6n_UmmHY4S"
   },
   "outputs": [],
   "source": [
    "import torch\n",
    "import torch.nn as nn\n",
    "import torch.optim as optim\n",
    "import torchvision\n",
    "import torchvision.transforms as transforms\n",
    "from torch.utils.data import DataLoader\n",
    "import matplotlib.pyplot as plt\n",
    "import numpy as np\n",
    "from sklearn.metrics import confusion_matrix, classification_report\n",
    "import seaborn as sns"
   ]
  },
  {
   "cell_type": "code",
   "execution_count": 2,
   "metadata": {
    "executionInfo": {
     "elapsed": 3,
     "status": "ok",
     "timestamp": 1742742361687,
     "user": {
      "displayName": "Midhun S",
      "userId": "16395347418772137838"
     },
     "user_tz": -330
    },
    "id": "e0NsWbqvIFIy"
   },
   "outputs": [],
   "source": [
    "## Step 1: Load and Preprocess Data\n",
    "# Define transformations for images\n",
    "transform = transforms.Compose([\n",
    "    transforms.ToTensor(),          # Convert images to tensors\n",
    "    transforms.Normalize((0.5,), (0.5,))  # Normalize images\n",
    "])"
   ]
  },
  {
   "cell_type": "code",
   "execution_count": 3,
   "metadata": {
    "colab": {
     "base_uri": "https://localhost:8080/"
    },
    "executionInfo": {
     "elapsed": 6646,
     "status": "ok",
     "timestamp": 1742742368335,
     "user": {
      "displayName": "Midhun S",
      "userId": "16395347418772137838"
     },
     "user_tz": -330
    },
    "id": "l254MU2HIKb4",
    "outputId": "78b36f57-0815-4b26-d79f-c78f7d26e0ac"
   },
   "outputs": [
    {
     "name": "stderr",
     "output_type": "stream",
     "text": [
      "100%|██████████| 26.4M/26.4M [00:02<00:00, 12.5MB/s]\n",
      "100%|██████████| 29.5k/29.5k [00:00<00:00, 199kB/s]\n",
      "100%|██████████| 4.42M/4.42M [00:01<00:00, 3.65MB/s]\n",
      "100%|██████████| 5.15k/5.15k [00:00<00:00, 13.8MB/s]\n"
     ]
    }
   ],
   "source": [
    "# Load Fashion-MNIST dataset\n",
    "train_dataset = torchvision.datasets.FashionMNIST(root=\"./data\", train=True, transform=transform, download=True)\n",
    "test_dataset = torchvision.datasets.FashionMNIST(root=\"./data\", train=False, transform=transform, download=True)"
   ]
  },
  {
   "cell_type": "code",
   "execution_count": null,
   "metadata": {
    "colab": {
     "base_uri": "https://localhost:8080/",
     "height": 259
    },
    "executionInfo": {
     "elapsed": 407,
     "status": "ok",
     "timestamp": 1742742368744,
     "user": {
      "displayName": "Midhun S",
      "userId": "16395347418772137838"
     },
     "user_tz": -330
    },
    "id": "OyPe5ScmYL05",
    "outputId": "f1d154e2-007d-4aa0-ed0d-9b6ac664cef2"
   },
   "outputs": [
    {
     "data": {
      "image/png": "[encoded data removed]",
      "text/plain": [
       "<Figure size 1500x300 with 5 Axes>"
      ]
     },
     "metadata": {},
     "output_type": "display_data"
    }
   ],
   "source": [
    "import matplotlib.pyplot as plt\n",
    "\n",
    "def print_images_side_by_side(dataset, num_images=5):\n",
    "    fig, axes = plt.subplots(1, num_images, figsize=(15, 3)) # Create subplots\n",
    "\n",
    "    for i in range(num_images):\n",
    "        image, label = dataset[i]\n",
    "        image = image.reshape(28, 28) # Reshape the image\n",
    "\n",
    "        axes[i].imshow(image, cmap='gray') # Display image on subplot\n",
    "        axes[i].set_title(f\"Label: {label}\") # Set subplot title\n",
    "        axes[i].axis('off') # Hide subplot axes\n",
    "\n",
    "    plt.show()\n",
    "\n",
    "# Example usage to display 5 images side-by-side\n",
    "print_images_side_by_side(train_dataset, num_images=5)"
   ]
  },
  {
   "cell_type": "code",
   "execution_count": 5,
   "metadata": {
    "colab": {
     "base_uri": "https://localhost:8080/"
    },
    "executionInfo": {
     "elapsed": 12,
     "status": "ok",
     "timestamp": 1742742368762,
     "user": {
      "displayName": "Midhun S",
      "userId": "16395347418772137838"
     },
     "user_tz": -330
    },
    "id": "hio_0YcDKSG6",
    "outputId": "323cc0db-ee94-4300-bb15-a8685b328a6c"
   },
   "outputs": [
    {
     "name": "stdout",
     "output_type": "stream",
     "text": [
      "torch.Size([1, 28, 28])\n",
      "60000\n"
     ]
    }
   ],
   "source": [
    "# Get the shape of the first image in the training dataset\n",
    "image, label = train_dataset[0]\n",
    "print(image.shape)\n",
    "print(len(train_dataset))"
   ]
  },
  {
   "cell_type": "code",
   "execution_count": 6,
   "metadata": {
    "colab": {
     "base_uri": "https://localhost:8080/"
    },
    "executionInfo": {
     "elapsed": 22,
     "status": "ok",
     "timestamp": 1742742368790,
     "user": {
      "displayName": "Midhun S",
      "userId": "16395347418772137838"
     },
     "user_tz": -330
    },
    "id": "Np4cKkebKpmx",
    "outputId": "30b98666-5f45-47aa-a358-63fe636879ee"
   },
   "outputs": [
    {
     "name": "stdout",
     "output_type": "stream",
     "text": [
      "torch.Size([1, 28, 28])\n",
      "10000\n"
     ]
    }
   ],
   "source": [
    "# Get the shape of the first image in the test dataset\n",
    "image, label = test_dataset[0]\n",
    "print(image.shape)\n",
    "print(len(test_dataset))"
   ]
  },
  {
   "cell_type": "code",
   "execution_count": 7,
   "metadata": {
    "executionInfo": {
     "elapsed": 70,
     "status": "ok",
     "timestamp": 1742742368862,
     "user": {
      "displayName": "Midhun S",
      "userId": "16395347418772137838"
     },
     "user_tz": -330
    },
    "id": "6QNx7l2YISUp"
   },
   "outputs": [],
   "source": [
    "# Create DataLoader for batch processing\n",
    "train_loader = DataLoader(train_dataset, batch_size=32, shuffle=True)\n",
    "test_loader = DataLoader(test_dataset, batch_size=32, shuffle=False)\n"
   ]
  },
  {
   "cell_type": "code",
   "execution_count": 8,
   "metadata": {
    "executionInfo": {
     "elapsed": 3,
     "status": "ok",
     "timestamp": 1742742368870,
     "user": {
      "displayName": "Midhun S",
      "userId": "16395347418772137838"
     },
     "user_tz": -330
    },
    "id": "GvzsVmYUIWuo"
   },
   "outputs": [],
   "source": [
    "class CNNClassifier(nn.Module):\n",
    "    def __init__(self):\n",
    "        super(CNNClassifier, self).__init__()\n",
    "        self.conv1=nn.Conv2d(in_channels=1,out_channels=32,kernel_size=3,padding=1)\n",
    "        self.conv2=nn.Conv2d(in_channels=32,out_channels=64,kernel_size=3,padding=1)\n",
    "        self.conv3=nn.Conv2d(in_channels=64,out_channels=128,kernel_size=3,padding=1)\n",
    "        self.pool=nn.MaxPool2d(kernel_size=2,stride=2)\n",
    "        self.fc1=nn.Linear(in_features=128*3*3,out_features=128)\n",
    "        self.fc2=nn.Linear(in_features=128,out_features=64)\n",
    "        self.fc3=nn.Linear(in_features=64,out_features=10)\n",
    "\n",
    "    def forward(self, x):\n",
    "        x=self.pool(torch.relu(self.conv1(x)))\n",
    "        x=self.pool(torch.relu(self.conv2(x)))\n",
    "        x=self.pool(torch.relu(self.conv3(x)))\n",
    "        x=x.view(-1,128*3*3)\n",
    "        x=torch.relu(self.fc1(x))\n",
    "        x=torch.relu(self.fc2(x))\n",
    "        x=self.fc3(x)\n",
    "        return x"
   ]
  },
  {
   "cell_type": "markdown",
   "metadata": {
    "id": "1glOMHxdOxlq"
   },
   "source": [
    "![image.png](data:image/png;base64,iVBORw0KGgoAAAANSUhEUgAAAT8AAABCCAYAAAAhbdEAAAAAAXNSR0IArs4c6QAAAARnQU1BAACxjwv8YQUAAAAJcEhZcwAADsMAAA7DAcdvqGQAAA8SSURBVHhe7Z0HjFVFF4DH35IoWbusQQVF1wYoKnYRe4FdsayxoiJRSGxRLIgVjQaNSCCIoqixYcUu9gg2RGPQ1bWggjSj2FBRY8v733d2znLf23tf2Vf2vn3nSyZzZ97d3Xfv3nvmzJlzzqySSOJKxMMPP+zOOOMM99Zbb7k+ffr4XkPZdttt3YABA9xee+0l7aamJnfPPfe4//77zz344IPusMMOk37DMIrP/3xtdAC77rqre+GFF9w555wj5f777xdhyGBhgs8wSktJNT/DMIy4YpqfYRhViQk/wzCqEhN+hmFUJSb8OoClS5e6uro699FHH/kewyguJ554ohs3bpxvGWHYgkeZ+f77791OO+0kD+Zxxx3ne1P54osv3Ntvv+1bqWyyySbuoIMOcn///be4w0RxwgknuDXWWMO3Oj/c1xkzZvhWNJtvvrnbbbfd3Jprrul74sMrr7wiA2MYO+64o+vbt69vOTdz5ky3cOFC32phnXXWcUceeaQc83zsueeebtCgQe6aa66RPiMNhJ9RPvbZZ5/E6aef7lvhTJ48OdGzZ89Et27dEjU1NVK6d+8ufWPGjJFzFi9enOjVq5f06Tldu3aVdv/+/RN//fWXnFdp8L2HDx8u16LXdPTRRyeam5v9GeHMnj1brp37pPeD+0dfsNC/7rrrJq644gr/k/Ghvr5evuMGG2zQ+j31e8+aNcuf1UJDQ0PrdVI4Z+jQof7TFubPny+/47HHHvM9RhATfmVkypQp8jAuW7bM92Tmpptuan0JooQZQlBfgIceesj3ViZc484775wYMmRIYtGiRVJGjBjReg9yub7XX3+99X5wb9JZsmRJoq6uTj5PakS+N14wQPL9GhsbfU9b5s2bJ/eE+7N8+XLf25Zzzz03kZwtVOxgWEpM+JUJHj5eulNPPdX3ZCc5dZWX4NBDD/U9bWFU15f9559/9r3lB4FVqIaBRpyctvnWSniBuT5e9mzXqAPGFlts4XvaMmrUKDmntrbW98QLrpPvx2AZxvTp0xM9evRIzJkzx/dEg/bH7+K+GKnYgkeZeOKJJ9y3337rhg0b5nuy884770i99957Sx1GUtORmgWU5Esjxx3Bn3/+6f7991/fah+vvfaae/XVV8VYH+Siiy6SmrC/O++8U46jeOONN6Tef//9pQ4jqXlL/ccff0gdJ/j+XCdgs0vnwgsvdDfeeKN77733xHaZjeQgIPbCpCD1PYZiwq9MJLUit9Zaa7n+/fv7nsx89tln7ocffpDj/fbbT+owEBiQnCpJXcmoMPr444+lVjbddFN/5Nz777/vj8LRAWP33XeXOgwEB7D4ETdYyIANN9wwJR6ewUUFOgPeRhttJMe5wM8x8Jp3QSom/MoEI3pwtS4bqtGtuuqqkQJz+fLl7uuvv5bjfffdV+pK5o477nAHHnigmzBhgu9pS6aXnpdbBejAgQOlTodz9J6dffbZUscJ4rphl112kRo++eQTt8MOO0j8d3L6mvcqvibOeOmll6Q2WjDhVwbQ4ngpt9lmG9+THdUAMmXDefHFF/2RE6FR6TQ0NIh5IH3KqlNZwM0nCn250ZqC2qKC+8dpp50mx8cee6w788wz5ThOzJkzR+qDDz5Y6ttvv13MHr/99purr6+Xvnzp3bu31Nm05mrDhF8ZaG5ulho/rFzR6dsHH3zg1l577dBCujDoaHtfqZk4caLUaDAIyCj0nvXr188tXrw4pdxwww1u6623Ft+466+/PqvtsCNIt/dhH7711lulj8Hzvvvuk8/yRQcC7oOxEhN+ZUAXAnr16iV1NoL2vueee879+uuvoQWhB2H2PpxlZ8+e7VuVCym/0HC51mwvv2qITB2xkwYLmvTVV18tAiCO011QbR8HbAY2rnnu3Lmtz83UqVOlbg9ow7/88otvGWARHmVAk7pi04qK6gjCVIdVPRZIMFSHgb2ve/fucnz33Xe7Y445Ro4VbEZEirz77ruSNLVQskWU3HbbbfI3yVEYhkam5INGw9TW1ooQzGbv01XxWbNmyc8VAxZHsLnlS5cuXVxjY6Nv5QY5HInswab36KOPtk7/0VLPP/98OX755ZczLuZEgc0QSJhrtGCaXxlAcOSDagCZFkhwCVHC7H0XX3yxhLj17NnT91QWCD4EKW4aaLDZVjfV3seAUSzBV27U3se0PGj3HDJkiFwXMA02ioR4+xklhcgEHE1zjcDAQZfzM0UgqOMvERFxgGiEYkWYaKQHTt5BCPGaNGmSb6UyePBguR+ZoiLiTLbIlJEjR8pnuTh6h8Ez1adPH98ywDS/MrDaaqtJrQsfmWD6Vqh/H4sk7AVyyy23uCVLlkgfbQp2MWw/fHbllVe2a0pXak466SS5rmnTpvmeFp5//nn3008/+VYqutixxx57SF1pMJ2FqJXqs846S2oWPzAx5AvPVD4LbtWACb8yoAbrXAzOOn0r1L/vkUcecZdeeqlLagnSxnZ4ySWXuOuuu07sR0cccYS8ZNjJFixYIOfEAaI7khqO2Dx1pVYLiz+s2KaDQFf/vkMOOUTqSkMHs3Q3H4VIDX0e7rrrLqlzRQfAsHtXzZjwKwMsOGCz+fzzz31PW/QFVw0A/z7a33zzjbSB0Zs+FjgUVgTpC9oVsRXiEBsEwde1a1c3b948eXk222wz8XlDk2BRJA6giT777LMSDcOAkV4Q+Ntvv70/e+X9CC7E4PJDXyXA/4zv+umnn7ZGtWy11VbSlz5Q8hywaAQMZOPHj2/zf49Cf3d7Fko6NX76a5SYgQMHRgbSJ6ejrfae9KI/s2LFitaA97CSnBLKeUpTU5P0UyvYfNJtYpxTDFtdMWx+weuJKkpSYIR+roXP4w73LOy7U4JpzzJda/r/PQzSd3EuSQ6MleTl6sKI/Pvvv/tWKoQTsSKXyTWAUTvKFaKzo+4KTN1yje8tBHX9CO6ZjLsDUSa4USg4S+fqgpMJIiaSL3PBv8coPjxv+Jp2Br/PoiIiMEeSUw9JmqgaCEkXaScFWuuoMnr0aOnTZJQU2pRp06bJOdUIK5hocfmktCqEcmt+xUhpZRQfTWk1depU3xNfeEfQUsvlwdCuaS8vMTc0UzZc1HbOseX1lZBTjYEj12SmhVBu4WfEE1yi6urqYpvMdO7cuYmxY8dKHkfNYF0umZH3gocG6YMGX4eBuwVErV5VIyNHjhSn41GjRvme0kDmD6IFgPqpp55yW265pRjI2SeCY/p69Ogh5yRfEDd8+HA5NjoPrOLfe++9YnIpxX4uuBUhDwrhyy+/FBMNvwvH/LLihWDOkF0W6YwGEwVOmJxDsalQKmh9pBU3bcsoJeooXsq9StDQgjOLQuGdiLXmp6FXmZbNO1uqpWLCohBhTJdffrmMeIZRCnBjwmfSdm6LJm/hl0tqdd12ER80/K6MVPDXIulAcoTzPYZRXIiOwcxiRJOX8AumWsoURtSZUqsbhtE5yUv4aWp1IIVSenJNLXFOrX7BBReIwb+9JZhNxTCMyiUvJ2dsCIQfkVGX/GphTJ8+3Q0dOlSOFy1aVLJprwrYfDehYSMY1V7bA2FhhmG0OM0/8MADRTPfaN5L3ummMuQdzEv44aaB4Ljqqqsi7QnnnXeeI/YUe18p9wwgqy/L93GOKEALNow4QibwbJBTccaMGb7VljFjxoiw6tatm+9JJd+IrtgKP+x9uk9ophAtzSCM9pdpF65CYTXr8MMPt3AqwygRJvw8mlqdVEuaJimdbKnVFWJLcbKtra0VB1t1tsUx+sMPP3QrVqxwgwcPlpRLTz75pGS44O+efPLJMm3FaXP06NHulFNOkZvLz2fKfRfEpr2GURwqfdqb84KHploqxL+P9DusEn/33XeSVgnBh+bGRSvpeegQhOSgY5d64GdramrkuD1cdtllKRvb5FtswcMwOglofrmg8byFpFYn3jcp/HyrBby6iRbR1Nzq5R30HMdLPd3rm3MsSsIwOg7eyeB7WiixivBgukk8KDY+jefdbrvtpI/pI2hCRgppxoFNZ2inTy/5PekpurELkFAzjvuoGoZRWpAjKj80TpjZnvYFk/kWm4zCj42TyaDLLmBKUnuTvsmTJ0ub7LuaaVe3WdRMvEcddZS0FRWgYWjm2nxSbeeSFt6ofBhgJ02a5Hr37i17XOBvOWLECHlxMMpbhuLK5emnn26VH+PGjZM+lCbt0wQdpSCj8CMpafpG2VrU1WXs2LGhn1N0E2ll4403dv/8849vtcAiCXChoJv9BIkScro3AYk0jc4JngMMiFOmTJFNl9jEG19Tni/cqXg51ltvPX+2UWlg80+XG8FSyoWPvCI8CuXaa6+V2GBGawUtkYc4XUsMQrgcqnAQVn+Nzg3PCSnRWNHHZ3TAgAGy2o7phdhVNEGEY6bUakbpYF+a1Vdf3bcqj7ycnIsBLjM333yz69evn/vxxx8lvTYPcnBTatxckPr48iEc2XIP9ZgRnhVlNgRCkKIN1NfXi6sLK8RG52LYsGHiFvXVV1+FblqOoztbOpZrawCjc1F24adgzCQCImovUeb92HQY6Zn2Ml3G3hMkqt+ofDCHsF0j//+oqQ9TYBzd1dZsGPlQ1mlvEB7qTJsoI9DUoZjzwgRcVL9R+WAewQtg2bJlkdszsg2naXxGe+kw4WcYmejSpYvUeAhg/giLysFYHtyJzjDyocOmvYaRCbQ9Emlg+1VqamrcAQccIK5XbJVqGIVgws+ILc8884zEbzP9TQfnePJLlmJjHqM6sGmvEVsaGhrEw3/ixImub9++KYIOH1S8BgyjvZjmZ1QUZP0ZNGiQTIcJo0x3pDeMXDHNz4gdpDGLAoFHSCVYeKNRCCb8jFiBfx92vkyoixQRHobRXkz4GbGCfImETWWiublZ6mDCDcPIFxN+RqxgBRffvgULFvieVIj3JREu018WRAyjvZjwM2LFm2++KXVjY6NbunSpHCsIPk1x9Pjjj0ttGO3FhJ8RG7D3zZ8/X5LikvQWmx57P7N3CzG8pLZaf/31JaY3LNGBYeSDuboYsYFMvqSo0unswoUL3cyZM2X/GDbJOf7441s3uzKMQjHhZxhGVWLTXsMwqhITfoZhVCUm/AzDqEpM+BmGUZWY8DMMoyox4WcYRlViws8wjCrEuf8DWYwrHe5wrwcAAAAASUVORK5CYII=)"
   ]
  },
  {
   "cell_type": "code",
   "execution_count": 9,
   "metadata": {
    "colab": {
     "base_uri": "https://localhost:8080/"
    },
    "executionInfo": {
     "elapsed": 1070,
     "status": "ok",
     "timestamp": 1742742369942,
     "user": {
      "displayName": "Midhun S",
      "userId": "16395347418772137838"
     },
     "user_tz": -330
    },
    "id": "LHob57oROF77",
    "outputId": "d17e9db8-e187-4572-9153-9b1019c2d900"
   },
   "outputs": [
    {
     "name": "stdout",
     "output_type": "stream",
     "text": [
      "Name:Midhun S\n",
      "Register Number:212223240087       \n",
      "----------------------------------------------------------------\n",
      "        Layer (type)               Output Shape         Param #\n",
      "================================================================\n",
      "            Conv2d-1           [-1, 32, 28, 28]             320\n",
      "         MaxPool2d-2           [-1, 32, 14, 14]               0\n",
      "            Conv2d-3           [-1, 64, 14, 14]          18,496\n",
      "         MaxPool2d-4             [-1, 64, 7, 7]               0\n",
      "            Conv2d-5            [-1, 128, 7, 7]          73,856\n",
      "         MaxPool2d-6            [-1, 128, 3, 3]               0\n",
      "            Linear-7                  [-1, 128]         147,584\n",
      "            Linear-8                   [-1, 64]           8,256\n",
      "            Linear-9                   [-1, 10]             650\n",
      "================================================================\n",
      "Total params: 249,162\n",
      "Trainable params: 249,162\n",
      "Non-trainable params: 0\n",
      "----------------------------------------------------------------\n",
      "Input size (MB): 0.00\n",
      "Forward/backward pass size (MB): 0.42\n",
      "Params size (MB): 0.95\n",
      "Estimated Total Size (MB): 1.37\n",
      "----------------------------------------------------------------\n"
     ]
    }
   ],
   "source": [
    "from torchsummary import summary\n",
    "\n",
    "# Initialize model\n",
    "model = CNNClassifier()\n",
    "\n",
    "# Move model to GPU if available\n",
    "if torch.cuda.is_available():\n",
    "    device = torch.device(\"cuda\")\n",
    "    model.to(device)\n",
    "\n",
    "# Print model summary\n",
    "print('Name:Midhun S')\n",
    "print('Register Number:212223240087       ')\n",
    "summary(model, input_size=(1, 28, 28))"
   ]
  },
  {
   "cell_type": "code",
   "execution_count": 10,
   "metadata": {
    "executionInfo": {
     "elapsed": 11,
     "status": "ok",
     "timestamp": 1742742369957,
     "user": {
      "displayName": "Midhun S",
      "userId": "16395347418772137838"
     },
     "user_tz": -330
    },
    "id": "Zi53JllwIapx"
   },
   "outputs": [],
   "source": [
    "  # Initialize model, loss function, and optimizer\n",
    "model = CNNClassifier()\n",
    "criterion = nn.CrossEntropyLoss()\n",
    "optimizer = optim.Adam(model.parameters(), lr=0.001)"
   ]
  },
  {
   "cell_type": "code",
   "execution_count": 11,
   "metadata": {
    "executionInfo": {
     "elapsed": 2,
     "status": "ok",
     "timestamp": 1742742369962,
     "user": {
      "displayName": "Midhun S",
      "userId": "16395347418772137838"
     },
     "user_tz": -330
    },
    "id": "PiziTNVjIjVB"
   },
   "outputs": [],
   "source": [
    "## Step 3: Train the Model\n",
    "def train_model(model, train_loader, num_epochs=3):\n",
    "    model.train()\n",
    "    for epoch in range(num_epochs):\n",
    "        running_loss = 0.0\n",
    "        for images, labels in train_loader:\n",
    "            optimizer.zero_grad()\n",
    "            outputs = model(images)\n",
    "            loss = criterion(outputs, labels)\n",
    "            loss.backward()\n",
    "            optimizer.step()\n",
    "            running_loss += loss.item()\n",
    "        print('Name:Midhun S        ')\n",
    "        print('Register Number: 212223240087      ')\n",
    "        print(f'Epoch [{epoch+1}/{num_epochs}], Loss: {running_loss/len(train_loader):.4f}')\n"
   ]
  },
  {
   "cell_type": "code",
   "execution_count": 24,
   "metadata": {
    "colab": {
     "base_uri": "https://localhost:8080/"
    },
    "collapsed": true,
    "executionInfo": {
     "elapsed": 270059,
     "status": "ok",
     "timestamp": 1742743343063,
     "user": {
      "displayName": "Midhun S",
      "userId": "16395347418772137838"
     },
     "user_tz": -330
    },
    "id": "HFw97_tqInO5",
    "outputId": "e549c3e4-5214-42db-e4d9-152d03bbf645"
   },
   "outputs": [
    {
     "name": "stdout",
     "output_type": "stream",
     "text": [
      "Name:Midhun S        \n",
      "Register Number: 212223240087      \n",
      "Epoch [1/3], Loss: 0.1330\n",
      "Name:Midhun S        \n",
      "Register Number: 212223240087      \n",
      "Epoch [2/3], Loss: 0.1192\n",
      "Name:Midhun S        \n",
      "Register Number: 212223240087      \n",
      "Epoch [3/3], Loss: 0.1051\n"
     ]
    }
   ],
   "source": [
    "# Train the model\n",
    "train_model(model, train_loader)\n"
   ]
  },
  {
   "cell_type": "code",
   "execution_count": 22,
   "metadata": {
    "executionInfo": {
     "elapsed": 136,
     "status": "ok",
     "timestamp": 1742743054536,
     "user": {
      "displayName": "Midhun S",
      "userId": "16395347418772137838"
     },
     "user_tz": -330
    },
    "id": "1QrqfMIuIsJB"
   },
   "outputs": [],
   "source": [
    "## Step 4: Test the Model\n",
    "def test_model(model, test_loader):\n",
    "    model.eval()\n",
    "    correct = 0\n",
    "    total = 0\n",
    "    all_preds = []\n",
    "    all_labels = []\n",
    "\n",
    "    with torch.no_grad():\n",
    "        for images, labels in test_loader:\n",
    "            outputs = model(images)\n",
    "            _, predicted = torch.max(outputs, 1)\n",
    "            total += labels.size(0)\n",
    "            correct += (predicted == labels).sum().item()\n",
    "            all_preds.extend(predicted.cpu().numpy())\n",
    "            all_labels.extend(labels.cpu().numpy())\n",
    "\n",
    "    accuracy = correct / total\n",
    "    print('Name:Midhun S        ')\n",
    "    print('Register Number: 212223240087      ')\n",
    "    print(f'Test Accuracy: {accuracy:.4f}')\n",
    "\n",
    "    # Compute confusion matrix\n",
    "    cm = confusion_matrix(all_labels, all_preds)\n",
    "    plt.figure(figsize=(8, 6))\n",
    "    sns.heatmap(cm, annot=True, fmt='d', cmap='Blues', xticklabels=test_dataset.classes, yticklabels=test_dataset.classes)\n",
    "    plt.xlabel('Predicted')\n",
    "    plt.ylabel('Actual')\n",
    "    plt.title('Confusion Matrix')\n",
    "    plt.show()\n",
    "\n",
    "    # Print classification report\n",
    "    print('Name:Midhun S        ')\n",
    "    print('Register Number:212223240087       ')\n",
    "    print(\"Classification Report:\")\n",
    "    print(classification_report(all_labels, all_preds, target_names=test_dataset.classes))\n"
   ]
  },
  {
   "cell_type": "code",
   "execution_count": 23,
   "metadata": {
    "colab": {
     "base_uri": "https://localhost:8080/",
     "height": 1000
    },
    "executionInfo": {
     "elapsed": 7810,
     "status": "ok",
     "timestamp": 1742743062537,
     "user": {
      "displayName": "Midhun S",
      "userId": "16395347418772137838"
     },
     "user_tz": -330
    },
    "id": "UobAH8oOIs0p",
    "outputId": "ddfc7b3b-3b79-496f-ef22-697e1882d1ae"
   },
   "outputs": [
    {
     "name": "stdout",
     "output_type": "stream",
     "text": [
      "Name:Midhun S        \n",
      "Register Number: 212223240087      \n",
      "Test Accuracy: 0.9190\n"
     ]
    },
    {
     "data": {
      "image/png": "[encoded data removed]",
      "text/plain": [
       "<Figure size 800x600 with 2 Axes>"
      ]
     },
     "metadata": {},
     "output_type": "display_data"
    },
    {
     "name": "stdout",
     "output_type": "stream",
     "text": [
      "Name:Midhun S        \n",
      "Register Number:212223240087       \n",
      "Classification Report:\n",
      "              precision    recall  f1-score   support\n",
      "\n",
      " T-shirt/top       0.84      0.89      0.87      1000\n",
      "     Trouser       0.99      0.99      0.99      1000\n",
      "    Pullover       0.88      0.89      0.88      1000\n",
      "       Dress       0.92      0.92      0.92      1000\n",
      "        Coat       0.85      0.90      0.87      1000\n",
      "      Sandal       0.99      0.98      0.98      1000\n",
      "       Shirt       0.80      0.69      0.74      1000\n",
      "     Sneaker       0.94      0.98      0.96      1000\n",
      "         Bag       0.99      0.99      0.99      1000\n",
      "  Ankle boot       0.98      0.95      0.97      1000\n",
      "\n",
      "    accuracy                           0.92     10000\n",
      "   macro avg       0.92      0.92      0.92     10000\n",
      "weighted avg       0.92      0.92      0.92     10000\n",
      "\n"
     ]
    }
   ],
   "source": [
    "# Evaluate the model\n",
    "test_model(model, test_loader)\n"
   ]
  },
  {
   "cell_type": "code",
   "execution_count": 15,
   "metadata": {
    "executionInfo": {
     "elapsed": 5,
     "status": "ok",
     "timestamp": 1742742658663,
     "user": {
      "displayName": "Midhun S",
      "userId": "16395347418772137838"
     },
     "user_tz": -330
    },
    "id": "UXYUZ-V7Iwqo"
   },
   "outputs": [],
   "source": [
    "## Step 5: Predict on a Single Image\n",
    "import matplotlib.pyplot as plt\n",
    "def predict_image(model, image_index, dataset):\n",
    "    model.eval()\n",
    "    image, label = dataset[image_index]\n",
    "    with torch.no_grad():\n",
    "        output = model(image.unsqueeze(0))  # Add batch dimension\n",
    "        _, predicted = torch.max(output, 1)\n",
    "    class_names = dataset.classes\n",
    "\n",
    "    # Display the image\n",
    "    print('Name:Midhun S        ')\n",
    "    print('Register Number:212223240087       ')\n",
    "    plt.imshow(image.squeeze(), cmap=\"gray\")\n",
    "    plt.title(f'Actual: {class_names[label]}\\nPredicted: {class_names[predicted.item()]}')\n",
    "    plt.axis(\"off\")\n",
    "    plt.show()\n",
    "    print(f'Actual: {class_names[label]}, Predicted: {class_names[predicted.item()]}')\n"
   ]
  },
  {
   "cell_type": "code",
   "execution_count": 16,
   "metadata": {
    "colab": {
     "base_uri": "https://localhost:8080/",
     "height": 501
    },
    "executionInfo": {
     "elapsed": 83,
     "status": "ok",
     "timestamp": 1742742658773,
     "user": {
      "displayName": "Midhun S",
      "userId": "16395347418772137838"
     },
     "user_tz": -330
    },
    "id": "X9FU-SeUIzmp",
    "outputId": "40e42995-f8d4-4174-8ccc-cec9858dd4a2"
   },
   "outputs": [
    {
     "name": "stdout",
     "output_type": "stream",
     "text": [
      "Name:Midhun S        \n",
      "Register Number:212223240087       \n"
     ]
    },
    {
     "data": {
      "image/png": "[encoded data removed]",
      "text/plain": [
       "<Figure size 640x480 with 1 Axes>"
      ]
     },
     "metadata": {},
     "output_type": "display_data"
    },
    {
     "name": "stdout",
     "output_type": "stream",
     "text": [
      "Actual: Shirt, Predicted: Shirt\n"
     ]
    }
   ],
   "source": [
    "# Example Prediction\n",
    "predict_image(model, image_index=7, dataset=test_dataset)"
   ]
  },
  {
   "cell_type": "code",
   "execution_count": 16,
   "metadata": {
    "executionInfo": {
     "elapsed": 15,
     "status": "ok",
     "timestamp": 1742742658789,
     "user": {
      "displayName": "Midhun S",
      "userId": "16395347418772137838"
     },
     "user_tz": -330
    },
    "id": "ul0EhoVzViI2"
   },
   "outputs": [],
   "source": []
  }
 ],
 "metadata": {
  "accelerator": "GPU",
  "colab": {
   "gpuType": "T4",
   "provenance": []
  },
  "kernelspec": {
   "display_name": "Python 3",
   "name": "python3"
  },
  "language_info": {
   "name": "python"
  }
 },
 "nbformat": 4,
 "nbformat_minor": 0
}
